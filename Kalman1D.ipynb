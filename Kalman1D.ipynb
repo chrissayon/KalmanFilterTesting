{
 "cells": [
  {
   "cell_type": "code",
   "execution_count": 1,
   "metadata": {},
   "outputs": [],
   "source": [
    "import numpy as np\n",
    "from collections import namedtuple\n",
    "gaussian = namedtuple('Gaussian', ['mean', 'var'])\n",
    "gaussian.__repr__ = lambda s: '𝒩(μ={:.3f}, 𝜎²={:.3f})'.format(s[0], s[1])"
   ]
  },
  {
   "cell_type": "markdown",
   "metadata": {},
   "source": [
    "Initialize initial variables"
   ]
  },
  {
   "cell_type": "code",
   "execution_count": 2,
   "metadata": {},
   "outputs": [
    {
     "name": "stdout",
     "output_type": "stream",
     "text": [
      "𝒩(μ=0.000, 𝜎²=400.000)\n",
      "𝒩(μ=2.000, 𝜎²=0.040)\n"
     ]
    }
   ],
   "source": [
    "state         = gaussian(0,20**2)                  # Initial State\n",
    "measurement   = gaussian(2,0.2**2)                 # Measurement\n",
    "velocity      = 1                                  # Velocity\n",
    "dt            = 1.                                 # time step in seconds\n",
    "process_var   = 1.                                 # variance in the dog's movement\n",
    "sensor_var    = 2.                                 # variance in the sensor\n",
    "process_model = gaussian(velocity*dt, process_var) # displacement to add to x\n",
    "print(state)\n",
    "print(measurement)"
   ]
  },
  {
   "cell_type": "markdown",
   "metadata": {},
   "source": [
    "## Predict"
   ]
  },
  {
   "cell_type": "code",
   "execution_count": 3,
   "metadata": {},
   "outputs": [],
   "source": [
    "def predict(pos, movement):\n",
    "    return gaussian(pos.mean + movement.mean, pos.var + movement.var)"
   ]
  },
  {
   "cell_type": "markdown",
   "metadata": {},
   "source": [
    "x = x + vt"
   ]
  },
  {
   "cell_type": "code",
   "execution_count": 16,
   "metadata": {},
   "outputs": [
    {
     "name": "stdout",
     "output_type": "stream",
     "text": [
      "𝒩(μ=11.383, 𝜎²=2.198)\n"
     ]
    }
   ],
   "source": [
    "prior = predict(state, process_model)\n",
    "print(prior)"
   ]
  },
  {
   "cell_type": "markdown",
   "metadata": {},
   "source": [
    "## Update"
   ]
  },
  {
   "cell_type": "code",
   "execution_count": 5,
   "metadata": {},
   "outputs": [],
   "source": [
    "def gaussian_multiply(g1, g2):\n",
    "    mean = (g1.var * g2.mean + g2.var * g1.mean) / (g1.var + g2.var)\n",
    "    variance = (g1.var * g2.var) / (g1.var + g2.var)\n",
    "    return gaussian(mean, variance)\n",
    "\n",
    "def update(prior, likelihood):\n",
    "    posterior = gaussian_multiply(likelihood, prior)\n",
    "    return posterior"
   ]
  },
  {
   "cell_type": "markdown",
   "metadata": {},
   "source": [
    "posterior = likelihood * prior"
   ]
  },
  {
   "cell_type": "code",
   "execution_count": 17,
   "metadata": {},
   "outputs": [
    {
     "name": "stdout",
     "output_type": "stream",
     "text": [
      "𝒩(μ=10.659, 𝜎²=1.047)\n"
     ]
    }
   ],
   "source": [
    "likelihood = gaussian(10, sensor_var)\n",
    "state = update(prior,likelihood)\n",
    "print(state)"
   ]
  },
  {
   "cell_type": "markdown",
   "metadata": {},
   "source": [
    "## Kalman Filter"
   ]
  },
  {
   "cell_type": "markdown",
   "metadata": {},
   "source": [
    "process_var = 1. # variance in the dog's movement\n",
    "sensor_var = 2. # variance in the sensor\n",
    "\n",
    "x = gaussian(0., 20.**2)  # dog's position, N(0, 20**2)\n",
    "velocity = 1               \n",
    "dt = 1. # time step in seconds\n",
    "process_model = gaussian(velocity*dt, process_var) # displacement to add to x"
   ]
  },
  {
   "cell_type": "markdown",
   "metadata": {},
   "source": [
    "print('PREDICT\\t\\t\\tUPDATE')\n",
    "print('     x      var\\t\\t  z\\t    x      var')\n",
    "\n",
    "#perform Kalman filter on measurement z\n",
    "for z in zs:    \n",
    "    prior = predict(x, process_model)\n",
    "    likelihood = gaussian(z, sensor_var)\n",
    "    x = update(prior, likelihood)\n",
    "\n",
    "    kf_internal.print_gh(prior, x, z)\n",
    "\n",
    "print()\n",
    "print('final estimate:        {:10.3f}'.format(x.mean))\n",
    "print('actual final position: {:10.3f}'.format(dog.x))"
   ]
  }
 ],
 "metadata": {
  "kernelspec": {
   "display_name": "Python 3",
   "language": "python",
   "name": "python3"
  },
  "language_info": {
   "codemirror_mode": {
    "name": "ipython",
    "version": 3
   },
   "file_extension": ".py",
   "mimetype": "text/x-python",
   "name": "python",
   "nbconvert_exporter": "python",
   "pygments_lexer": "ipython3",
   "version": "3.8.1"
  }
 },
 "nbformat": 4,
 "nbformat_minor": 4
}
