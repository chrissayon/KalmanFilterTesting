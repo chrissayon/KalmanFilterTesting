{
 "cells": [
  {
   "cell_type": "code",
   "execution_count": 1,
   "metadata": {},
   "outputs": [],
   "source": [
    "import numpy as np\n",
    "from collections import namedtuple\n",
    "from IPython.core.interactiveshell import InteractiveShell\n",
    "InteractiveShell.ast_node_interactivity = \"all\"\n",
    "\n",
    "gaussian = namedtuple('Gaussian', ['mean', 'var'])\n",
    "gaussian.__repr__ = lambda s: '𝒩(μ={:.3f}, 𝜎²={:.3f})'.format(s[0], s[1])"
   ]
  },
  {
   "cell_type": "markdown",
   "metadata": {},
   "source": [
    "Initialize initial variables"
   ]
  },
  {
   "cell_type": "code",
   "execution_count": 2,
   "metadata": {},
   "outputs": [
    {
     "name": "stdout",
     "output_type": "stream",
     "text": [
      "𝒩(μ=20.000, 𝜎²=500.000)\n"
     ]
    }
   ],
   "source": [
    "state         = gaussian(20,500)                  # Initial State\n",
    "velocity      = 1                                  # Velocity\n",
    "dt            = 1.                                 # time step in seconds\n",
    "process_var   = 0.01                              # variance in the dog's movement\n",
    "sensor_var    = 50.                             # variance in the sensor\n",
    "process_model = gaussian(velocity*dt, process_var) # displacement to add to x\n",
    "measurement = np.arange(100)\n",
    "output = np.array([0,0])\n",
    "print(state)\n",
    "#print(measurement)"
   ]
  },
  {
   "cell_type": "code",
   "execution_count": 3,
   "metadata": {},
   "outputs": [],
   "source": [
    "def predict(pos, movement):\n",
    "    return gaussian(pos.mean + movement.mean, pos.var + movement.var)"
   ]
  },
  {
   "cell_type": "code",
   "execution_count": 4,
   "metadata": {},
   "outputs": [],
   "source": [
    "def gaussian_multiply(g1, g2):\n",
    "    mean = (g1.var * g2.mean + g2.var * g1.mean) / (g1.var + g2.var)\n",
    "    variance = (g1.var * g2.var) / (g1.var + g2.var)\n",
    "    return gaussian(mean, variance)\n",
    "\n",
    "def update(prior, likelihood):\n",
    "    posterior = gaussian_multiply(likelihood, prior)\n",
    "    return posterior"
   ]
  },
  {
   "cell_type": "code",
   "execution_count": 5,
   "metadata": {},
   "outputs": [
    {
     "name": "stdout",
     "output_type": "stream",
     "text": [
      "[[ 0.          0.        ]\n",
      " [ 1.9090562  45.4546281 ]\n",
      " [ 1.9998762  23.81228996]\n",
      " [ 2.67721836 16.13488959]\n",
      " [ 3.5119204  12.20418515]\n",
      " [ 4.41141775  9.81623815]\n",
      " [ 5.3438439   8.21231491]\n",
      " [ 6.29528532  7.06113706]\n",
      " [ 7.25869935  6.1950203 ]\n",
      " [ 8.23013901  5.5199876 ]\n",
      " [ 9.20722048  4.97928042]\n",
      " [10.18841897  4.53659366]\n",
      " [11.17271379  4.16762382]\n",
      " [12.15939587  3.85548823]\n",
      " [13.14795732  3.58809356]\n",
      " [14.1380248   3.35654995]\n",
      " [15.12931771  3.15417612]\n",
      " [16.1216211   2.97585362]\n",
      " [17.11476752  2.81759509]\n",
      " [18.10862459  2.67624817]\n",
      " [19.10308628  2.54928777]\n",
      " [20.09806667  2.43466748]\n",
      " [21.09349536  2.3307112 ]\n",
      " [22.08931419  2.23603305]\n",
      " [23.08547461  2.14947712]\n",
      " [24.08193584  2.07007167]\n",
      " [25.07866333  1.99699386]\n",
      " [26.07562765  1.92954227]\n",
      " [27.07280354  1.86711529]\n",
      " [28.07016922  1.80919398]\n",
      " [29.06770582  1.75532832]\n",
      " [30.06539688  1.70512617]\n",
      " [31.063228    1.65824421]\n",
      " [32.06118652  1.61438059]\n",
      " [33.05926127  1.57326884]\n",
      " [34.05744233  1.53467285]\n",
      " [35.05572092  1.49838263]\n",
      " [36.05408918  1.46421083]\n",
      " [37.05254007  1.43198973]\n",
      " [38.0510673   1.40156878]\n",
      " [39.04966519  1.37281239]\n",
      " [40.0483286   1.3455982 ]\n",
      " [41.0470529   1.31981541]\n",
      " [42.04583389  1.29536352]\n",
      " [43.04466774  1.27215113]\n",
      " [44.04355096  1.25009492]\n",
      " [45.04248037  1.22911879]\n",
      " [46.04145307  1.2091531 ]\n",
      " [47.04046637  1.19013399]\n",
      " [48.03951784  1.17200278]\n",
      " [49.03860521  1.15470548]\n",
      " [50.03772641  1.13819231]\n",
      " [51.03687951  1.12241729]\n",
      " [52.03606275  1.10733792]\n",
      " [53.03527448  1.09291481]\n",
      " [54.03451318  1.07911145]\n",
      " [55.03377743  1.06589391]\n",
      " [56.03306592  1.05323062]\n",
      " [57.03237743  1.0410922 ]\n",
      " [58.03171081  1.02945123]\n",
      " [59.031065    1.01828214]\n",
      " [60.030439    1.007561  ]\n",
      " [61.02983189  0.99726543]\n",
      " [62.02924278  0.98737447]\n",
      " [63.02867087  0.97786845]\n",
      " [64.02811538  0.96872891]\n",
      " [65.0275756   0.95993852]\n",
      " [66.02705085  0.95148096]\n",
      " [67.02654049  0.94334088]\n",
      " [68.02604391  0.9355038 ]\n",
      " [69.02556056  0.92795608]\n",
      " [70.02508989  0.92068484]\n",
      " [71.02463141  0.91367791]\n",
      " [72.02418464  0.9069238 ]\n",
      " [73.02374911  0.90041163]\n",
      " [74.02332442  0.89413108]\n",
      " [75.02291014  0.8880724 ]\n",
      " [76.0225059   0.88222634]\n",
      " [77.02211134  0.87658411]\n",
      " [78.0217261   0.87113738]\n",
      " [79.02134985  0.86587823]\n",
      " [80.02098229  0.86079912]\n",
      " [81.02062312  0.85589291]\n",
      " [82.02027205  0.85115276]\n",
      " [83.01992882  0.8465722 ]\n",
      " [84.01959316  0.84214504]\n",
      " [85.01926483  0.83786539]\n",
      " [86.0189436   0.83372761]\n",
      " [87.01862924  0.82972635]\n",
      " [88.01832154  0.82585648]\n",
      " [89.01802029  0.82211311]\n",
      " [90.0177253   0.81849156]\n",
      " [91.01743638  0.81498736]\n",
      " [92.01715336  0.81159622]\n",
      " [93.01687605  0.80831407]\n",
      " [94.0166043   0.80513697]\n",
      " [95.01633795  0.80206118]\n",
      " [96.01607684  0.79908309]\n",
      " [97.01582083  0.79619926]\n",
      " [98.01556979  0.79340639]\n",
      " [99.01532356  0.7907013 ]]\n"
     ]
    }
   ],
   "source": [
    "for position in measurement:\n",
    "    prior = predict(state, process_model)       # predict state  \n",
    "    likelihood = gaussian(position, sensor_var) # get measurement data\n",
    "    state = update(prior,likelihood)            # update state \n",
    "    # output = np.append([output],[state], axis=0)\n",
    "    # buffer output \n",
    "    output = np.vstack((output,state))\n",
    "\n",
    "print(output)"
   ]
  },
  {
   "cell_type": "code",
   "execution_count": null,
   "metadata": {},
   "outputs": [],
   "source": []
  }
 ],
 "metadata": {
  "kernelspec": {
   "display_name": "Python 3",
   "language": "python",
   "name": "python3"
  },
  "language_info": {
   "codemirror_mode": {
    "name": "ipython",
    "version": 3
   },
   "file_extension": ".py",
   "mimetype": "text/x-python",
   "name": "python",
   "nbconvert_exporter": "python",
   "pygments_lexer": "ipython3",
   "version": "3.8.1"
  }
 },
 "nbformat": 4,
 "nbformat_minor": 4
}
