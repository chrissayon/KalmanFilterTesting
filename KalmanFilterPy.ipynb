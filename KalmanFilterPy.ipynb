{
 "cells": [
  {
   "cell_type": "code",
   "execution_count": 1,
   "metadata": {},
   "outputs": [],
   "source": [
    "import numpy as np\n",
    "from filterpy.kalman import KalmanFilter\n",
    "from filterpy.common import Q_discrete_white_noise\n",
    "import matplotlib.pyplot as plt"
   ]
  },
  {
   "cell_type": "raw",
   "metadata": {},
   "source": [
    "Must have the following variable\n",
    "\n",
    "x : ndarray (dim_x, 1), default = [0,0,0…0]\n",
    "    filter state estimate\n",
    "    \n",
    "F : ndarray (dim_x, dim_x) \n",
    "    state transistion matrix\n",
    "    \n",
    "P : ndarray (dim_x, dim_x), default eye(dim_x)\n",
    "    covariance matrix\n",
    "    \n",
    "Q : ndarray (dim_x, dim_x), default eye(dim_x)\n",
    "    Process uncertainty/noise\n",
    "    \n",
    "R : ndarray (dim_z, dim_z), default eye(dim_x)\n",
    "    measurement uncertainty/noise\n",
    "    \n",
    "H : ndarray (dim_z, dim_x)\n",
    "    measurement function\n",
    "    \n",
    "B : ndarray (dim_x, dim_u), default 0\n",
    "    control transition matrix "
   ]
  },
  {
   "cell_type": "raw",
   "metadata": {},
   "source": [
    "Construct Kalman Object"
   ]
  },
  {
   "cell_type": "code",
   "execution_count": 2,
   "metadata": {},
   "outputs": [],
   "source": [
    "f = KalmanFilter (dim_x=2, dim_z=1)"
   ]
  },
  {
   "cell_type": "raw",
   "metadata": {},
   "source": [
    "Create the state matrix"
   ]
  },
  {
   "cell_type": "code",
   "execution_count": 3,
   "metadata": {},
   "outputs": [],
   "source": [
    "f.x = np.array([[2.],    # position\n",
    "                [0.]])   # velocity"
   ]
  },
  {
   "cell_type": "raw",
   "metadata": {},
   "source": [
    "Create state transition matrx (identity matrix)"
   ]
  },
  {
   "cell_type": "code",
   "execution_count": 4,
   "metadata": {},
   "outputs": [],
   "source": [
    "f.F = np.array([[1.,0.2],  # 1 time \n",
    "                [0.,1.]])  # 0 1 "
   ]
  },
  {
   "cell_type": "raw",
   "metadata": {},
   "source": [
    "Create the measurement function"
   ]
  },
  {
   "cell_type": "code",
   "execution_count": 5,
   "metadata": {},
   "outputs": [],
   "source": [
    "f.H = np.array([[1.,0.]])"
   ]
  },
  {
   "cell_type": "raw",
   "metadata": {},
   "source": [
    "Create covariance matrix"
   ]
  },
  {
   "cell_type": "raw",
   "metadata": {},
   "source": [
    "variance = np.var(np.array([[3.,4.]]))"
   ]
  },
  {
   "cell_type": "raw",
   "metadata": {},
   "source": [
    "standard_deviation = np.std((np.array([3.,4.])))"
   ]
  },
  {
   "cell_type": "raw",
   "metadata": {},
   "source": [
    "f.P = np.array([[variance]])"
   ]
  },
  {
   "cell_type": "code",
   "execution_count": 6,
   "metadata": {},
   "outputs": [],
   "source": [
    "f.P = np.array([[10,    0.],\n",
    "                [   0., 10] ])"
   ]
  },
  {
   "cell_type": "raw",
   "metadata": {},
   "source": [
    "Create measurement noise"
   ]
  },
  {
   "cell_type": "code",
   "execution_count": 7,
   "metadata": {},
   "outputs": [],
   "source": [
    "f.R = np.array([[5.]])"
   ]
  },
  {
   "cell_type": "raw",
   "metadata": {},
   "source": [
    "Create process noise"
   ]
  },
  {
   "cell_type": "code",
   "execution_count": 8,
   "metadata": {},
   "outputs": [],
   "source": [
    "f.Q = Q_discrete_white_noise(dim=2, dt=0.1, var=0.13)"
   ]
  },
  {
   "cell_type": "code",
   "execution_count": 9,
   "metadata": {},
   "outputs": [
    {
     "data": {
      "text/plain": [
       "array([[3.25e-06, 6.50e-05],\n",
       "       [6.50e-05, 1.30e-03]])"
      ]
     },
     "execution_count": 9,
     "metadata": {},
     "output_type": "execute_result"
    }
   ],
   "source": [
    "f.Q"
   ]
  },
  {
   "cell_type": "raw",
   "metadata": {},
   "source": [
    "Prediction update"
   ]
  },
  {
   "cell_type": "code",
   "execution_count": 10,
   "metadata": {},
   "outputs": [],
   "source": [
    "f.predict()"
   ]
  },
  {
   "cell_type": "code",
   "execution_count": 11,
   "metadata": {},
   "outputs": [
    {
     "data": {
      "text/plain": [
       "array([[2.],\n",
       "       [0.]])"
      ]
     },
     "execution_count": 11,
     "metadata": {},
     "output_type": "execute_result"
    }
   ],
   "source": [
    "f.x"
   ]
  },
  {
   "cell_type": "code",
   "execution_count": 12,
   "metadata": {},
   "outputs": [],
   "source": [
    "sensor_reading = np.array([3.])"
   ]
  },
  {
   "cell_type": "code",
   "execution_count": 13,
   "metadata": {},
   "outputs": [],
   "source": [
    "f.update(sensor_reading)"
   ]
  },
  {
   "cell_type": "raw",
   "metadata": {},
   "source": [
    "Output reading"
   ]
  },
  {
   "cell_type": "code",
   "execution_count": 14,
   "metadata": {},
   "outputs": [
    {
     "data": {
      "text/plain": [
       "array([[2.80620157],\n",
       "       [0.15504126]])"
      ]
     },
     "execution_count": 14,
     "metadata": {},
     "output_type": "execute_result"
    }
   ],
   "source": [
    "f.x"
   ]
  },
  {
   "cell_type": "raw",
   "metadata": {},
   "source": [
    "Create acceleration array list"
   ]
  },
  {
   "cell_type": "code",
   "execution_count": 15,
   "metadata": {},
   "outputs": [],
   "source": [
    "acceleration_array = np.arange(30)"
   ]
  },
  {
   "cell_type": "raw",
   "metadata": {},
   "source": [
    "Initialize Kalman Output Array"
   ]
  },
  {
   "cell_type": "code",
   "execution_count": 16,
   "metadata": {},
   "outputs": [],
   "source": [
    "kalman_buffer = np.array([f.x[0][0],f.x[1][0]])"
   ]
  },
  {
   "cell_type": "code",
   "execution_count": 17,
   "metadata": {},
   "outputs": [
    {
     "data": {
      "text/plain": [
       "array([2.80620157, 0.15504126])"
      ]
     },
     "execution_count": 17,
     "metadata": {},
     "output_type": "execute_result"
    }
   ],
   "source": [
    "kalman_buffer"
   ]
  },
  {
   "cell_type": "code",
   "execution_count": 18,
   "metadata": {},
   "outputs": [],
   "source": [
    "kalman_output = np.array([f.x[0][0],f.x[1][0]])"
   ]
  },
  {
   "cell_type": "code",
   "execution_count": 19,
   "metadata": {},
   "outputs": [],
   "source": [
    "kalman_output = np.concatenate(([kalman_output], [kalman_buffer]),axis=0)"
   ]
  },
  {
   "cell_type": "code",
   "execution_count": 20,
   "metadata": {},
   "outputs": [
    {
     "data": {
      "text/plain": [
       "array([[2.80620157, 0.15504126],\n",
       "       [2.80620157, 0.15504126]])"
      ]
     },
     "execution_count": 20,
     "metadata": {},
     "output_type": "execute_result"
    }
   ],
   "source": [
    "kalman_output"
   ]
  },
  {
   "cell_type": "raw",
   "metadata": {},
   "source": [
    "Test kalman filter"
   ]
  },
  {
   "cell_type": "code",
   "execution_count": 21,
   "metadata": {},
   "outputs": [],
   "source": [
    "for acceleration_reading in acceleration_array:\n",
    "    kalman_buffer = np.array([f.x[0][0],f.x[1][0]])\n",
    "    kalman_output = np.concatenate((kalman_output, [kalman_buffer]),axis=0)\n",
    "    f.update(acceleration_reading)    "
   ]
  },
  {
   "cell_type": "code",
   "execution_count": 22,
   "metadata": {},
   "outputs": [
    {
     "data": {
      "text/plain": [
       "array([[ 2.80620157,  0.15504126],\n",
       "       [ 2.80620157,  0.15504126],\n",
       "       [ 2.80620157,  0.15504126],\n",
       "       [ 1.55364806, -0.08583829],\n",
       "       [ 1.38278931, -0.11869627],\n",
       "       [ 1.52834467, -0.09070441],\n",
       "       [ 1.80917431, -0.03669784],\n",
       "       [ 2.16024653,  0.03081714],\n",
       "       [ 2.55245684,  0.10624341],\n",
       "       [ 2.97082848,  0.18670079],\n",
       "       [ 3.40686785,  0.27055586],\n",
       "       [ 3.85539907,  0.35681326],\n",
       "       [ 4.31308812,  0.4448318 ],\n",
       "       [ 4.7776905 ,  0.53417985],\n",
       "       [ 5.24763981,  0.62455617],\n",
       "       [ 5.7218096 ,  0.71574413],\n",
       "       [ 6.1993691 ,  0.80758398],\n",
       "       [ 6.67969214,  0.89995528],\n",
       "       [ 7.16229784,  0.99276556],\n",
       "       [ 7.64681077,  1.08594262],\n",
       "       [ 8.13293355,  1.17942928],\n",
       "       [ 8.62042757,  1.27317964],\n",
       "       [ 9.10909915,  1.36715645],\n",
       "       [ 9.59878946,  1.46132918],\n",
       "       [10.089367  ,  1.55567254],\n",
       "       [10.58072195,  1.65016539],\n",
       "       [11.07276192,  1.74478999],\n",
       "       [11.56540859,  1.83953126],\n",
       "       [12.05859514,  1.93437635],\n",
       "       [12.55226423,  2.02931424],\n",
       "       [13.04636634,  2.12433541],\n",
       "       [13.54085852,  2.21943159]])"
      ]
     },
     "execution_count": 22,
     "metadata": {},
     "output_type": "execute_result"
    }
   ],
   "source": [
    "kalman_output"
   ]
  },
  {
   "cell_type": "code",
   "execution_count": null,
   "metadata": {},
   "outputs": [],
   "source": []
  },
  {
   "cell_type": "code",
   "execution_count": null,
   "metadata": {},
   "outputs": [],
   "source": []
  }
 ],
 "metadata": {
  "kernelspec": {
   "display_name": "Python 3",
   "language": "python",
   "name": "python3"
  },
  "language_info": {
   "codemirror_mode": {
    "name": "ipython",
    "version": 3
   },
   "file_extension": ".py",
   "mimetype": "text/x-python",
   "name": "python",
   "nbconvert_exporter": "python",
   "pygments_lexer": "ipython3",
   "version": "3.7.5"
  }
 },
 "nbformat": 4,
 "nbformat_minor": 2
}
