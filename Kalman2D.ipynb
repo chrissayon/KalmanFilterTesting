{
 "cells": [
  {
   "cell_type": "code",
   "execution_count": null,
   "metadata": {},
   "outputs": [],
   "source": [
    "##import numpy as np`"
   ]
  },
  {
   "cell_type": "markdown",
   "metadata": {},
   "source": [
    "# Kalman Filter Algorithm\n",
    "\n",
    "**Initialization**\n",
    "\n",
    "    1. Initialize the state of the filter\n",
    "    2. Initialize our belief in the state\n",
    "    \n",
    "**Predict**\n",
    "\n",
    "    1. Use process model to predict state at the next time step\n",
    "    2. Adjust belief to account for the uncertainty in prediction    \n",
    "**Update**\n",
    "\n",
    "    1. Get a measurement and associated belief about its accuracy\n",
    "    2. Compute residual between estimated state and measurement\n",
    "    3. Compute scaling factor based on whether the measurement\n",
    "    or prediction is more accurate\n",
    "    4. set state between the prediction and measurement based \n",
    "    on scaling factor\n",
    "    5. update belief in the"
   ]
  },
  {
   "cell_type": "markdown",
   "metadata": {},
   "source": [
    "# Equation Reference\n",
    "\n",
    "$$\n",
    "\\begin{aligned}\n",
    "\\text{Predict Step}\\\\\n",
    "\\mathbf{\\bar x} &= \\mathbf{F x} + \\mathbf{B u} = PriorState\\\\ \n",
    "\\mathbf{\\bar P} &= \\mathbf{FP{F}}^\\mathsf T + \\mathbf Q = ProcessNoise\\\\\n",
    "\\\\\n",
    "\\text{Update Step}\\\\\n",
    "\\textbf{S} &= \\mathbf{H\\bar PH}^\\mathsf T + \\mathbf R = ObtainSystemUncertainty\\\\\n",
    "\\mathbf K &= \\mathbf{\\bar PH}^\\mathsf T \\mathbf{S}^{-1} = KalmanGain\\\\\n",
    "\\textbf{y} &= \\mathbf z - \\mathbf{H \\bar x} = Residual\\\\\n",
    "\\mathbf x &=\\mathbf{\\bar x} +\\mathbf{K\\textbf{y}} = UpdatedState(Posterior)\\\\\n",
    "\\mathbf P &= (\\mathbf{I}-\\mathbf{KH})\\mathbf{\\bar P = UpdateNoise}\n",
    "\\end{aligned}\n",
    "$$"
   ]
  },
  {
   "cell_type": "markdown",
   "metadata": {},
   "source": [
    "#### Initial State (x)\n",
    "\n",
    "$$\\mathbf x \n",
    "= \\begin{bmatrix}position (m)\\\\ velocity (m/s)\\end{bmatrix} \n",
    "= \\begin{bmatrix}x\\\\ v\\end{bmatrix} \n",
    "= \\begin{bmatrix}0\\\\ 0\\end{bmatrix}$$\n",
    "\n",
    "#### State transition function (F)\n",
    "\n",
    "$$\\mathbf F = \n",
    "\\begin{bmatrix}1&\\Delta t  \\\\ 0&1\\end{bmatrix}$$\n",
    "\n",
    "#### Control Variable (u)\n",
    "\n",
    "$$\\mathbf u = \n",
    "\\begin{bmatrix}a\\end{bmatrix}$$\n",
    "\n",
    "#### Initial Process Noise (P)\n",
    "\n",
    "Position $\\mathbf x$ variance ($\\sigma_\\mathtt{x}^2$) selected at 5m \n",
    "\n",
    "Velocity $\\mathbf v$ variance ($\\sigma_\\mathtt{v}^2$) selected at 5m/s\n",
    "\n",
    "Covariance $\\sigma_\\mathtt{xv} = \\sigma_\\mathtt{x}\\sigma_\\mathtt{v} $\n",
    "\n",
    "$$\\mathbf P \n",
    "= \\begin{bmatrix}\\sigma_\\mathtt{x}^2&\\sigma_x\\sigma_v  \\\\ \\sigma_v\\sigma_x&\\sigma_\\mathtt{v}^2\\end{bmatrix} \n",
    "= \\begin{bmatrix}5&5  \\\\ 5&5\\end{bmatrix}$$\n",
    "\n",
    "#### Measurement Noise (R)\n",
    "\n",
    "Need to double check sensors\n",
    "\n",
    "$$\\mathbf x \n",
    "= \\begin{bmatrix}100\\end{bmatrix}\n",
    "$$"
   ]
  },
  {
   "cell_type": "markdown",
   "metadata": {},
   "source": [
    "# Math in terms of Matrices\n",
    "\n",
    "$$\n",
    "\\begin{aligned}\n",
    "\\text{Prediction Step}\\\\\n",
    "\\mathbf{\\bar x} &= \\mathbf{F x} + \\mathbf{B u} = PriorState\\\\ \n",
    "\\mathbf{\\bar P} &= \\mathbf{FP{F}}^\\mathsf T + \\mathbf Q = ProcessNoise\\\\\n",
    "\\end{aligned}\n",
    "$$\n",
    "\\\\\n",
    "\\\\\n",
    "\n",
    "$$\n",
    "\\begin{aligned}\n",
    "\\mathbf{\\bar x} &= \\mathbf{F x} + \\mathbf{B u}\\\\ \n",
    "\\mathbf{\\bar x} &= \\begin{bmatrix}1&\\Delta t  \\\\ 0&1\\end{bmatrix} \\begin{bmatrix}5  \\\\ 5\\end{bmatrix} + \\\\ \n",
    "\\end{aligned}\n",
    "$$"
   ]
  },
  {
   "cell_type": "markdown",
   "metadata": {},
   "source": [
    "# Math in terms of equations\n",
    "\n",
    "$$\n",
    "\\begin{aligned}\n",
    "\\text{Prediction Step}\\\\\n",
    "\\mathbf{\\bar x} &= \\mathbf{F x} + \\mathbf{B u} = PriorState\\\\ \n",
    "\\mathbf{\\bar P} &= \\mathbf{FP{F}}^\\mathsf T + \\mathbf Q = ProcessNoise\\\\\n",
    "\\\\\n",
    "\\\\\n",
    "\\begin{cases}\n",
    " x_t &= x_{t-1} + v_{t-1}\\Delta t + 0.5a_{t-1} \\Delta t^2 \\\\\n",
    " v_t &= v_{t-1} + a_{t-1}\\Delta t \\\\\n",
    "\\end{cases}\n",
    "\\end{aligned}\n",
    "$$\n"
   ]
  },
  {
   "cell_type": "markdown",
   "metadata": {},
   "source": [
    "\n",
    "\n"
   ]
  },
  {
   "cell_type": "markdown",
   "metadata": {},
   "source": [
    "\n",
    "\n"
   ]
  },
  {
   "cell_type": "markdown",
   "metadata": {},
   "source": [
    "$$\\mathbf x = \\begin{bmatrix}1&\\Delta t  \\\\ 0&1\\end{bmatrix}$$"
   ]
  }
 ],
 "metadata": {
  "kernelspec": {
   "display_name": "Python 3",
   "language": "python",
   "name": "python3"
  },
  "language_info": {
   "codemirror_mode": {
    "name": "ipython",
    "version": 3
   },
   "file_extension": ".py",
   "mimetype": "text/x-python",
   "name": "python",
   "nbconvert_exporter": "python",
   "pygments_lexer": "ipython3",
   "version": "3.7.5"
  }
 },
 "nbformat": 4,
 "nbformat_minor": 2
}
