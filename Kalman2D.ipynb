{
 "cells": [
  {
   "cell_type": "code",
   "execution_count": 1,
   "metadata": {},
   "outputs": [],
   "source": [
    "import numpy as np"
   ]
  },
  {
   "cell_type": "markdown",
   "metadata": {},
   "source": [
    "# Kalman Filter Algorithm\n",
    "\n",
    "**Initialization**\n",
    "\n",
    "    1. Initialize the state of the filter\n",
    "    2. Initialize our belief in the state\n",
    "    \n",
    "**Predict**\n",
    "\n",
    "    1. Use process model to predict state at the next time step\n",
    "    2. Adjust belief to account for the uncertainty in prediction    \n",
    "**Update**\n",
    "\n",
    "    1. Get a measurement and associated belief about its accuracy\n",
    "    2. Compute residual between estimated state and measurement\n",
    "    3. Compute scaling factor based on whether the measurement\n",
    "    or prediction is more accurate\n",
    "    4. set state between the prediction and measurement based \n",
    "    on scaling factor\n",
    "    5. update belief in the"
   ]
  },
  {
   "cell_type": "markdown",
   "metadata": {},
   "source": [
    "# Equation Reference\n",
    "\n",
    "$$\n",
    "\\begin{aligned}\n",
    "\\text{Predict Step}\\\\\n",
    "\\mathbf{\\bar x} &= \\mathbf{F x} + \\mathbf{B u} = PriorState\\\\ \n",
    "\\mathbf{\\bar P} &= \\mathbf{FP{F}}^\\mathsf T + \\mathbf Q = ProcessNoise\\\\\n",
    "\\\\\n",
    "\\text{Update Step}\\\\\n",
    "\\textbf{S} &= \\mathbf{H\\bar PH}^\\mathsf T + \\mathbf R = ObtainSystemUncertainty\\\\\n",
    "\\mathbf K &= \\mathbf{\\bar PH}^\\mathsf T \\mathbf{S}^{-1} = KalmanGain\\\\\n",
    "\\textbf{y} &= \\mathbf z - \\mathbf{H \\bar x} = Residual\\\\\n",
    "\\mathbf x &=\\mathbf{\\bar x} +\\mathbf{K\\textbf{y}} = UpdatedState(Posterior)\\\\\n",
    "\\mathbf P &= (\\mathbf{I}-\\mathbf{KH})\\mathbf{\\bar P = UpdateNoise}\n",
    "\\end{aligned}\n",
    "$$"
   ]
  },
  {
   "cell_type": "markdown",
   "metadata": {},
   "source": [
    "#### Initial State (x)\n",
    "\n",
    "$$\\mathbf x \n",
    "= \\begin{bmatrix}position (m)\\\\ velocity (m/s)\\end{bmatrix} \n",
    "= \\begin{bmatrix}x\\\\ v\\end{bmatrix} \n",
    "= \\begin{bmatrix}0\\\\ 0\\end{bmatrix}$$\n",
    "\n",
    "#### State transition function (F)\n",
    "\n",
    "$$\\mathbf F = \n",
    "\\begin{bmatrix}1&\\Delta t  \\\\ 0&1\\end{bmatrix}$$\n",
    "\n",
    "#### Control Variable (u)\n",
    "\n",
    "$$\\mathbf u = \n",
    "\\begin{bmatrix}a\\end{bmatrix}$$\n",
    "\n",
    "#### Control Matrix (B)\n",
    "\n",
    "$$\\mathbf B = \n",
    "\\begin{bmatrix}1/2\\Delta t^2 \\\\ \\Delta t\\end{bmatrix}$$\n",
    "\n",
    "#### Covariance Matrix (P)\n",
    "\n",
    "Position $\\mathbf x$ variance ($\\sigma_\\mathtt{x}^2$) selected at 5m \n",
    "\n",
    "Velocity $\\mathbf v$ variance ($\\sigma_\\mathtt{v}^2$) selected at 5m/s\n",
    "\n",
    "Covariance $\\sigma_\\mathtt{xv} = \\sigma_\\mathtt{x}\\sigma_\\mathtt{v} $\n",
    "\n",
    "$$\\mathbf P \n",
    "= \\begin{bmatrix}\\sigma_\\mathtt{x}^2&\\sigma_x\\sigma_v  \\\\ \\sigma_v\\sigma_x&\\sigma_\\mathtt{v}^2\\end{bmatrix} \n",
    "= \\begin{bmatrix}5&5  \\\\ 5&5\\end{bmatrix}$$\n",
    "\n",
    "#### Process Noise (Q)\n",
    "\n",
    "$$\\mathbf Q \n",
    "= \\begin{bmatrix}0&0 \\\\ 0&1\\end{bmatrix}\n",
    "$$\n",
    "\n",
    "#### Measurement Noise (R)\n",
    "\n",
    "Need to double check sensors\n",
    "\n",
    "$$\\mathbf x \n",
    "= \\begin{bmatrix}100\\end{bmatrix}\n",
    "$$"
   ]
  },
  {
   "cell_type": "markdown",
   "metadata": {},
   "source": [
    "### State/Measurement Related Initialization"
   ]
  },
  {
   "cell_type": "code",
   "execution_count": 2,
   "metadata": {},
   "outputs": [
    {
     "name": "stdout",
     "output_type": "stream",
     "text": [
      "[[0]\n",
      " [0]]\n"
     ]
    }
   ],
   "source": [
    "state                = np.array([[0],                  # state\n",
    "                                 [0]])\n",
    "\n",
    "print(state)\n",
    "\n",
    "time_step            = 1                               # time step\n",
    "\n",
    "state_transition     = np.array([[1, time_step],       # state transition matrix\n",
    "                                 [0, 1]])\n",
    "\n",
    "control_input        = np.array([10])                  # control input \n",
    "\n",
    "control_matrix       = np.array([[0.5*(time_step**2)], # control matrix\n",
    "                                 [time_step]])\n",
    "\n",
    "measurement_data     = np.array([10])                  # measurement\n",
    "  \n",
    "measurement_function = np.array([1,0])                 # measurement function\n",
    "                                "
   ]
  },
  {
   "cell_type": "markdown",
   "metadata": {},
   "source": [
    "### Noise Related Initialization"
   ]
  },
  {
   "cell_type": "code",
   "execution_count": 3,
   "metadata": {},
   "outputs": [],
   "source": [
    "position_variance = 5\n",
    "velocity_variance = 5\n",
    "position_std      = np.sqrt(position_variance)\n",
    "velocity_std      = np.sqrt(velocity_variance)\n",
    "covariance_value  = position_std * velocity_std\n",
    "\n",
    "covariance_matrix = np.array([[position_variance, covariance_value],\n",
    "                              [covariance_value,  position_variance]])\n",
    "\n",
    "process_noise     = np.array([[0,0],\n",
    "                              [0,1]]) \n",
    "\n",
    "measurement_noise = np.array([4])"
   ]
  },
  {
   "cell_type": "markdown",
   "metadata": {},
   "source": [
    "# Math in terms of Matrices"
   ]
  },
  {
   "cell_type": "markdown",
   "metadata": {},
   "source": [
    "$$\n",
    "\\begin{aligned}\n",
    "\\text{Prediction Step}\\\\\n",
    "\\mathbf{\\bar x} &= \\mathbf{F x} + \\mathbf{B u} = PriorState\\\\ \n",
    "\\mathbf{\\bar P} &= \\mathbf{FP{F}}^\\mathsf T + \\mathbf Q = ProcessNoise\\\\\n",
    "\\end{aligned}\n",
    "$$\n",
    "\n",
    "\n",
    "$$\n",
    "\\begin{aligned}\n",
    "\\mathbf{\\bar x} &= \\mathbf{F x} + \\mathbf{B u}\\\\ \n",
    "\\mathbf{\\bar x} &= \\begin{bmatrix}1&\\Delta t  \\\\ 0&1\\end{bmatrix} \\begin{bmatrix}x  \\\\ v\\end{bmatrix} \n",
    "+ \\begin{bmatrix}1/2\\Delta t^2 \\\\ \\Delta t\\end{bmatrix} \n",
    "\\begin{bmatrix}a\\end{bmatrix} \\\\\n",
    "\\mathbf{\\bar x} &= \\begin{bmatrix}1&1  \\\\ 0&1\\end{bmatrix} \\begin{bmatrix}0  \\\\ 0\\end{bmatrix} + \n",
    "\\begin{bmatrix}0.5*1 \\\\ 1\\end{bmatrix} \n",
    "\\begin{bmatrix}10\\end{bmatrix} \\\\\n",
    "\\mathbf{\\bar x} &= \\begin{bmatrix}5 \\\\ 10\\end{bmatrix} \n",
    "\\end{aligned}\n",
    "$$\n",
    "\n",
    "$$\n",
    "\\begin{aligned}\n",
    "\\mathbf{\\bar P} &= \\mathbf{FP{F}}^\\mathsf T + \\mathbf Q = ProcessNoise\\\\\n",
    "\\mathbf{\\bar x} &= \\begin{bmatrix}1&\\Delta t  \\\\ 0&1\\end{bmatrix} \\begin{bmatrix}\\sigma_\\mathtt{x}^2&\\sigma_x\\sigma_v \\\\ \\sigma_v\\sigma_x&\\sigma_\\mathtt{v}^2\\end{bmatrix} \\begin{bmatrix}1&0  \\\\ \\Delta t&1\\end{bmatrix}\n",
    "+\n",
    "\\begin{bmatrix}0&0  \\\\ 0&1\\end{bmatrix}\n",
    "\\end{aligned}\n",
    "$$"
   ]
  },
  {
   "cell_type": "code",
   "execution_count": 4,
   "metadata": {},
   "outputs": [
    {
     "name": "stdout",
     "output_type": "stream",
     "text": [
      "State is\n",
      "[[ 5.]\n",
      " [10.]]\n",
      "\n",
      "Covariance is\n",
      "[[20. 10.]\n",
      " [10.  6.]]\n"
     ]
    }
   ],
   "source": [
    "# Calculate Prior State\n",
    "Fx = np.dot(state_transition, state)                   # Calculate for Fx\n",
    "Bu = np.array([np.dot(control_matrix, control_input)]) # Calculate for Bu\n",
    "state = np.add(Fx, Bu.T) # Add Fx and Bu, Bu is transposed because it needs same dimensions as Fx\n",
    "\n",
    "\n",
    "covariance_matrix = np.dot(state_transition,covariance_matrix) # Calculate process noise\n",
    "covariance_matrix = np.dot(covariance_matrix,state_transition.T)\n",
    "covariance_matrix = covariance_matrix + process_noise\n",
    "\n",
    "print(\"State is\")\n",
    "print(state)\n",
    "print(\"\\nCovariance is\")\n",
    "print(covariance_matrix)"
   ]
  },
  {
   "cell_type": "markdown",
   "metadata": {},
   "source": [
    "$$\n",
    "\\begin{aligned}\n",
    "\\text{Update Step}\\\\\n",
    "\\textbf{S} &= \\mathbf{H\\bar PH}^\\mathsf T + \\mathbf R = ObtainSystemUncertainty\\\\\n",
    "\\mathbf K &= \\mathbf{\\bar PH}^\\mathsf T \\mathbf{S}^{-1} = KalmanGain\\\\\n",
    "\\textbf{y} &= \\mathbf z - \\mathbf{H \\bar x} = Residual\\\\\n",
    "\\mathbf x &=\\mathbf{\\bar x} +\\mathbf{K\\textbf{y}} = UpdatedState(Posterior)\\\\\n",
    "\\mathbf P &= (\\mathbf{I}-\\mathbf{KH})\\mathbf{\\bar P = UpdateNoise}\n",
    "\\end{aligned}\n",
    "$$"
   ]
  },
  {
   "cell_type": "code",
   "execution_count": 5,
   "metadata": {},
   "outputs": [
    {
     "name": "stdout",
     "output_type": "stream",
     "text": [
      "Measurement Uncertainty is\n",
      "[504. 264.]\n",
      "\n",
      "Kalman Gain is\n",
      "[[0.03968254]\n",
      " [0.03787879]]\n",
      "\n",
      "Residual is\n",
      "[5.]\n",
      "\n",
      "Updated State is\n",
      "[[ 5.1984127 ]\n",
      " [10.18939394]]\n",
      "\n",
      "Updated Covariance is\n",
      "[[18.80952381  9.36507937]\n",
      " [ 8.80952381  5.36507937]]\n"
     ]
    }
   ],
   "source": [
    "# Obtain system uncertainty for sensor\n",
    "HP = np.dot(covariance_matrix,measurement_function) # Calculate for HP\n",
    "HPH = np.dot(covariance_matrix.T,HP)                # Calculate for HP(H^T)\n",
    "measurement_uncertainty = np.add(HPH,measurement_noise) # Calculate for S = HP(H^T) + R\n",
    "print(\"Measurement Uncertainty is\")\n",
    "print(measurement_uncertainty)\n",
    "\n",
    "# Obtain Kalman Gain\n",
    "PH = np.dot(covariance_matrix,measurement_function) # Calculate for PH\n",
    "K = np.divide(PH,measurement_uncertainty) # Calculate for K = PH/S\n",
    "kalman_gain = np.array([[K[0]],[K[1]]])\n",
    "print(\"\\nKalman Gain is\")\n",
    "print(kalman_gain)\n",
    "\n",
    "# Obtain Residual\n",
    "Hx = np.dot(measurement_function,state) # Calculate for Hx\n",
    "residual = np.subtract(measurement_data,Hx) # Calculate for y = z - Hx\n",
    "print(\"\\nResidual is\")\n",
    "print(residual)\n",
    "\n",
    "# Update State\n",
    "Ky = np.dot(kalman_gain,residual)\n",
    "state = np.add(state,[[Ky[0]],[Ky[1]]])\n",
    "print(\"\\nUpdated State is\")\n",
    "print(state)\n",
    "\n",
    "# Update Covariance \n",
    "KH = np.dot(measurement_function,kalman_gain)\n",
    "KH_minus = np.subtract(np.identity(2),KH)\n",
    "covariance_matrix = np.dot(KH_minus,covariance_matrix)\n",
    "print(\"\\nUpdated Covariance is\")\n",
    "print(covariance_matrix)"
   ]
  },
  {
   "cell_type": "markdown",
   "metadata": {},
   "source": [
    "##"
   ]
  }
 ],
 "metadata": {
  "kernelspec": {
   "display_name": "Python 3",
   "language": "python",
   "name": "python3"
  },
  "language_info": {
   "codemirror_mode": {
    "name": "ipython",
    "version": 3
   },
   "file_extension": ".py",
   "mimetype": "text/x-python",
   "name": "python",
   "nbconvert_exporter": "python",
   "pygments_lexer": "ipython3",
   "version": "3.8.1"
  }
 },
 "nbformat": 4,
 "nbformat_minor": 2
}
